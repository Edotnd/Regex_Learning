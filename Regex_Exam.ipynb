{
 "metadata": {
  "language_info": {
   "codemirror_mode": {
    "name": "ipython",
    "version": 3
   },
   "file_extension": ".py",
   "mimetype": "text/x-python",
   "name": "python",
   "nbconvert_exporter": "python",
   "pygments_lexer": "ipython3",
   "version": "3.7.7-final"
  },
  "orig_nbformat": 2,
  "kernelspec": {
   "name": "Python 3.7.7 64-bit ('tensorflow3.7')",
   "display_name": "Python 3.7.7 64-bit ('tensorflow3.7')",
   "metadata": {
    "interpreter": {
     "hash": "74e78b823b90a0fc468450acbca4807ca4980c615ccf29012673c764eaa9e57b"
    }
   }
  }
 },
 "nbformat": 4,
 "nbformat_minor": 2,
 "cells": [
  {
   "cell_type": "code",
   "execution_count": 41,
   "metadata": {},
   "outputs": [],
   "source": [
    "import re\n",
    "p = re.compile('[a-z]+')"
   ]
  },
  {
   "cell_type": "code",
   "execution_count": 42,
   "metadata": {
    "tags": []
   },
   "outputs": [
    {
     "output_type": "stream",
     "name": "stdout",
     "text": "<re.Match object; span=(0, 6), match='python'>\n"
    }
   ],
   "source": [
    "m = p.match(\"python\")\n",
    "print(m) # 매치됨 (match 객체 리턴)"
   ]
  },
  {
   "cell_type": "code",
   "execution_count": 43,
   "metadata": {
    "tags": []
   },
   "outputs": [
    {
     "output_type": "stream",
     "name": "stdout",
     "text": "None\n"
    }
   ],
   "source": [
    "m = p.match(\"3 python\")\n",
    "print(m) # 정규식 [a-z]+ 에 부합하지 않음으로 None 리턴"
   ]
  },
  {
   "source": [
    "#### 파이썬 정규식 프로그램의 보통(?) 흐름\n",
    "\n",
    "```python\n",
    "p = re.complie(정규표현식)\n",
    "m = p.match(' umm... jun sick')\n",
    "if m:\n",
    "    print('Match found: ', m.group())\n",
    "else:\n",
    "    print('No match')\n",
    "```"
   ],
   "cell_type": "markdown",
   "metadata": {}
  },
  {
   "cell_type": "code",
   "execution_count": 44,
   "metadata": {
    "tags": []
   },
   "outputs": [
    {
     "output_type": "stream",
     "name": "stdout",
     "text": "<re.Match object; span=(0, 6), match='python'>\n"
    }
   ],
   "source": [
    "m = p.search('python')\n",
    "print(m)"
   ]
  },
  {
   "source": [
    "### \"3 python\" 문자열의 0 번째 문자는 \"3\"이지만 search는 문자열의 처음부터 검색하는 것이 아니라 문자열 전체를 검색하기 때문에 \"3\" 이후의 \"python\" 문자열과 매치된다."
   ],
   "cell_type": "markdown",
   "metadata": {}
  },
  {
   "cell_type": "code",
   "execution_count": 45,
   "metadata": {
    "tags": []
   },
   "outputs": [
    {
     "output_type": "stream",
     "name": "stdout",
     "text": "<re.Match object; span=(2, 8), match='python'>\n"
    }
   ],
   "source": [
    "m = p.search(\"3 python\")\n",
    "print(m) "
   ]
  },
  {
   "cell_type": "code",
   "execution_count": 46,
   "metadata": {
    "tags": []
   },
   "outputs": [
    {
     "output_type": "stream",
     "name": "stdout",
     "text": "['life', 'is', 'too', 'short']\n"
    }
   ],
   "source": [
    "result = p.findall(\"life is too short\")\n",
    "print(result)"
   ]
  },
  {
   "cell_type": "code",
   "execution_count": 47,
   "metadata": {
    "tags": []
   },
   "outputs": [
    {
     "output_type": "stream",
     "name": "stdout",
     "text": "<callable_iterator object at 0x7f81ea6e1510> \n\n<re.Match object; span=(0, 4), match='life'>\n<re.Match object; span=(5, 7), match='is'>\n<re.Match object; span=(8, 11), match='too'>\n<re.Match object; span=(12, 17), match='short'>\n"
    }
   ],
   "source": [
    "result = p.finditer(\"life is too short\")\n",
    "print(result, '\\n')\n",
    "\n",
    "for r in result: print(r)"
   ]
  },
  {
   "source": [
    "### finditer는 findall과 동일하지만 그 결과로 반복 가능한 객체(iterator object)를 돌려준다. 반복 가능한 객체가 포함하는 각각의 요소는 match 객체이다.\n"
   ],
   "cell_type": "markdown",
   "metadata": {}
  },
  {
   "source": [
    "## match 객체의 메서드\n",
    "\n",
    "| method  | 목적                                                   |\n",
    "|---------|--------------------------------------------------------|\n",
    "| group() | 매치된 문자열을 돌려준다.                              |\n",
    "| start() | 매치된 문자열의 시작 위치를 돌려준다.                  |\n",
    "| end()   | 매치된 문자열의 끝 위치를 돌려준다.                    |\n",
    "| span()  | 매치된 문자열의 (시작, 끝)에 해당하는 튜플을 돌려준다. |"
   ],
   "cell_type": "markdown",
   "metadata": {}
  },
  {
   "cell_type": "code",
   "execution_count": 48,
   "metadata": {
    "tags": []
   },
   "outputs": [
    {
     "output_type": "stream",
     "name": "stdout",
     "text": "python\nstart: 0, end: 6\n(0, 6)\n"
    }
   ],
   "source": [
    "m = p.match(\"python\")\n",
    "print(m.group())\n",
    "print(f\"start: {m.start()}, end: {m.end()}\")\n",
    "print(m.span())"
   ]
  },
  {
   "cell_type": "code",
   "execution_count": 49,
   "metadata": {
    "tags": []
   },
   "outputs": [
    {
     "output_type": "stream",
     "name": "stdout",
     "text": "python\nstart: 2, end: 8\n(2, 8)\n"
    }
   ],
   "source": [
    "m = p.search(\"3 python\")\n",
    "print(m.group())\n",
    "print(f\"start: {m.start()}, end: {m.end()}\")\n",
    "print(m.span())"
   ]
  },
  {
   "cell_type": "code",
   "execution_count": 50,
   "metadata": {},
   "outputs": [],
   "source": [
    "# p = re.compile('[a-z]+')\n",
    "# m = p.match(\"python\")\n",
    "\n",
    "m = re.match('[a-z]+', \"python\") # 위 코드의 축약 형태"
   ]
  },
  {
   "source": [
    "## 컴파일 옵션\n",
    "<hr>\n",
    "\n",
    "### 정규식을 컴파일할 때 다음 옵션을 사용할 수 있다.\n",
    "\n",
    "- DOTALL(S) - ` . ` 이 줄바꿈 문자를 포함하여 모든 문자와 매치할 수 있도록 한다.\n",
    "- IGNORECASE(I) - 대소문자에 관계없이 매치할 수 있도록 한다.\n",
    "- MULTILINE(M) - 여러줄과 매치할 수 있도록 한다. (` ^ ` ` $ ` 메타문자의 사용과 관계가 있는 옵션이다)\n",
    "- VERBOSE(X) - verbose 모드를 사용할 수 있도록 한다. (정규식을 보기 편하게 만들수 있고 주석등을 사용할 수 있게된다.)\n"
   ],
   "cell_type": "markdown",
   "metadata": {}
  },
  {
   "source": [
    "## DOTALL, S\n",
    "\n",
    "#### `.` 메타 문자는 줄바꿈 문자(`\\n`)를 제외한 모든 문자와 매치되는 규칙이 있다. 만약 `\\n` 문자도 포함하여 매치하고 싶다면 `re.DOTALL` 또는 `re.S` 옵션을 사용해 정규식을 컴파일하면 된다."
   ],
   "cell_type": "markdown",
   "metadata": {}
  },
  {
   "cell_type": "code",
   "execution_count": 51,
   "metadata": {
    "tags": []
   },
   "outputs": [
    {
     "output_type": "stream",
     "name": "stdout",
     "text": "None\n"
    }
   ],
   "source": [
    "import re \n",
    "p = re.compile('a.b')\n",
    "m = p.match('a\\nb')\n",
    "print(m)"
   ]
  },
  {
   "cell_type": "code",
   "execution_count": 52,
   "metadata": {
    "tags": []
   },
   "outputs": [
    {
     "output_type": "stream",
     "name": "stdout",
     "text": "<re.Match object; span=(0, 3), match='a\\nb'>\n"
    }
   ],
   "source": [
    "p = re.compile('a.b', re.DOTALL)\n",
    "m = p.match('a\\nb')\n",
    "print(m)\n",
    "# 보통 re.DOTALL 옵션은 여러 줄로 이루어진 문자열에서 \\n에 상관없이 검색할 때 많이 사용함."
   ]
  },
  {
   "source": [
    "## IGNORECASE, I\n",
    "\n",
    "#### `re.IGNORECASE` 또는 `re.I` 옵션은 대소문자 구별 없이 매치를 수행할 때 사용하는 옵션이다."
   ],
   "cell_type": "markdown",
   "metadata": {}
  },
  {
   "cell_type": "code",
   "execution_count": 53,
   "metadata": {
    "tags": []
   },
   "outputs": [
    {
     "output_type": "stream",
     "name": "stdout",
     "text": "<re.Match object; span=(0, 6), match='python'>\n<re.Match object; span=(0, 6), match='PytHoN'>\n"
    }
   ],
   "source": [
    "p = re.compile('[a-z]+', re.I)\n",
    "print(p.match('python'))\n",
    "print(p.match('PytHoN'))\n",
    "\n",
    "# [a-z] 정규식은 소문자만을 의미하지만 re.I 옵션으로 대소문자 구별 없이 매치됨.\n"
   ]
  },
  {
   "source": [
    "## MULTILINE, M\n",
    "\n",
    "#### `re.MULTILINE` 또는 `re.M` 옵션은 메타 문자인 `^`, `$`와 연관된 옵션이다. 이 메타 문자에 대해 간단히 설명하자면 `^`는 문자열의 처음을 의미하고, `$`는 문자열의 마지막을 의미한다. 예를 들어 정규식이 `^python`인 경우 문자열의 처음은 항상 `python`으로 시작해야 매치되고, 만약 정규식이 `python$`이라면 문자열의 마지막은 항상 `python`으로 끝나야 매치된다는 의미이다.\n",
    "\n"
   ],
   "cell_type": "markdown",
   "metadata": {}
  },
  {
   "cell_type": "code",
   "execution_count": 54,
   "metadata": {
    "tags": []
   },
   "outputs": [
    {
     "output_type": "stream",
     "name": "stdout",
     "text": "['python one']\n"
    }
   ],
   "source": [
    "import re\n",
    "p = re.compile(\"^python\\s\\w+\")\n",
    "\n",
    "data = '''python one\n",
    "life is too short\n",
    "python two\n",
    "you need python\n",
    "python three'''\n",
    "\n",
    "print(p.findall(data))\n",
    "\n",
    "# 정규식 ^python\\s\\w+은 python이라는 문자열로 시작하고 그 뒤에 whitespace, 그 뒤에 단어가 와야 한다는 의미이다. 검색할 문자열 data는 여러 줄로 이루어져 있다."
   ]
  },
  {
   "source": [
    "#### `^` 메타 문자를 문자열 전체의 처음이 아니라 각 라인의 처음으로 인식시키고 싶은 경우도 있을 것이다. 이럴 때 사용할 수 있는 옵션이 바로 `re.MULTILINE` 또는 `re.M`이다.\n",
    "\n"
   ],
   "cell_type": "markdown",
   "metadata": {}
  },
  {
   "cell_type": "code",
   "execution_count": 55,
   "metadata": {
    "tags": []
   },
   "outputs": [
    {
     "output_type": "stream",
     "name": "stdout",
     "text": "['python one', 'python two', 'python three']\n"
    }
   ],
   "source": [
    "import re\n",
    "p = re.compile(\"^python\\s\\w+\", re.MULTILINE)\n",
    "\n",
    "data = '''python one\n",
    "life is too short\n",
    "python two\n",
    "you need python\n",
    "python three'''\n",
    "\n",
    "print(p.findall(data))\n",
    "\n",
    "# re.MULTILINE 옵션으로 인해 ^ 메타 문자가 문자열 전체가 아닌 각 줄의 처음이라는 의미를 갖게 되었다. 이 스크립트를 실행하면 다음과 같은 결과가 출력된다.\n",
    "\n",
    "## 즉 re.MULTILINE 옵션은 ^, $ 메타 문자를 문자열의 각 줄마다 적용해 주는 것이다."
   ]
  },
  {
   "source": [
    "## VERBOSE, X\n",
    "\n",
    "#### 정규식을 주석 또는 줄 단위로 구분할 수 있는 옵션으로 `re.VERBOSE` 또는 `re.X` 를 사용하면 된다."
   ],
   "cell_type": "markdown",
   "metadata": {}
  },
  {
   "cell_type": "code",
   "execution_count": 56,
   "metadata": {},
   "outputs": [],
   "source": [
    "# charref = re.compile(r'&[#](0[0-7]+|[0-9]+|x[0-9a-fA-F]+);')\n",
    "\n",
    "charref = re.compile(r'''\n",
    "&[#] # Start of a numeric entity reference\n",
    "(\n",
    "    0[0-7]+ # Octal form\n",
    "    | [0-9]+ # Decimal form\n",
    "    | x[0-9a-fA-F]+ # Hexadecimal form\n",
    ")\n",
    "; # Trailing semicolon\n",
    "''', re.VERBOSE)\n",
    "\n",
    "# re.VERBOSE 옵션을 사용하면 문자열에 사용된 whitespace는 컴파일할 때 제거된다(단 [ ] 안에 사용한 whitespace는 제외). \n",
    "## 그리고 줄 단위로 #기호를 사용하여 주석문을 작성할 수 있다.\n",
    "\n"
   ]
  },
  {
   "source": [
    "## 그루핑\n",
    "<hr>\n",
    "\n",
    "#### ABC 문자열이 계속해서 반복되는지 조사하는 정규식을 작성하고 싶다고 할때 지금까지 나온 내요으로는 위 정규식을 작성할수 없다. 이럴때 필요한 것이 그루핑(Grouping)이다."
   ],
   "cell_type": "markdown",
   "metadata": {}
  },
  {
   "cell_type": "code",
   "execution_count": 57,
   "metadata": {
    "tags": []
   },
   "outputs": [
    {
     "output_type": "stream",
     "name": "stdout",
     "text": "<re.Match object; span=(0, 9), match='ABCABCABC'>\nABCABCABC\n"
    }
   ],
   "source": [
    "# (ABC)+ 그룹을 만들어 주는 메타 문자 ()\n",
    "\n",
    "p = re.compile('(ABC)+')\n",
    "m = p.search('ABCABCABC OK?')\n",
    "print(m)\n",
    "print(m.group())"
   ]
  },
  {
   "cell_type": "code",
   "execution_count": 58,
   "metadata": {},
   "outputs": [],
   "source": [
    "p = re.compile(r\"\\w+\\s+\\d+[-]\\d+[-]\\d+\")\n",
    "m = p.search(\"Edotnd 010-1234-5678\")"
   ]
  },
  {
   "source": [
    "### `\\w+\\s+\\d+[-]\\d+[-]\\d+`은 `이름 + \" \" + 전화번호` 형태의 문자열을 찾는 정규식이다. 그런데 이렇게 매치된 문자열 중에서 이름만 뽑아내고 싶다면 어떻게 해야 할까?\n",
    "\n"
   ],
   "cell_type": "markdown",
   "metadata": {}
  },
  {
   "source": [
    "보통 반복되는 문자열을 찾을 때 그룹을 사용하는데, 그룹을 사용하는 보다 큰 이유는 위에서 볼 수 있듯이 매치된 문자열 중에서 특정 부분의 문자열만 뽑아내기 위해서인 경우가 더 많다.\n",
    "\n",
    "위 예에서 만약 ‘이름’ 부분만 뽑아내려 한다면 다음과 같이 할 수 있다.\n",
    "\n"
   ],
   "cell_type": "markdown",
   "metadata": {}
  },
  {
   "cell_type": "code",
   "execution_count": 59,
   "metadata": {
    "tags": []
   },
   "outputs": [
    {
     "output_type": "stream",
     "name": "stdout",
     "text": "Edotnd\n"
    }
   ],
   "source": [
    "p = re.compile(r\"(\\w+)\\s+\\d+[-]\\d+[-]\\d+\")\n",
    "m = p.search(\"Edotnd 010-1234-5678\")\n",
    "print(m.group(1))"
   ]
  },
  {
   "cell_type": "code",
   "execution_count": 60,
   "metadata": {
    "tags": []
   },
   "outputs": [
    {
     "output_type": "stream",
     "name": "stdout",
     "text": "010-1234-5678\n"
    }
   ],
   "source": [
    "p = re.compile(r\"(\\w+)\\s+(\\d+[-]\\d+[-]\\d+)\")\n",
    "m = p.search(\"Edotnd 010-1234-5678\")\n",
    "print(m.group(2))"
   ]
  },
  {
   "cell_type": "code",
   "execution_count": 61,
   "metadata": {
    "tags": []
   },
   "outputs": [
    {
     "output_type": "stream",
     "name": "stdout",
     "text": "010\n"
    }
   ],
   "source": [
    "p = re.compile(r\"(\\w+)\\s+((\\d+)[-]\\d+[-]\\d+)\")\n",
    "m = p.search(\"Edotnd 010-1234-5678\")\n",
    "print(m.group(3))"
   ]
  },
  {
   "source": [
    "## 그루핑된 문자열 재참조하기\n",
    "\n",
    "#### 그룹의 또 하나 좋은 점은 한 번 그루핑한 문자열을 재참조(Backreferences)할 수 있다는 점이다."
   ],
   "cell_type": "markdown",
   "metadata": {}
  },
  {
   "cell_type": "code",
   "execution_count": 62,
   "metadata": {},
   "outputs": [
    {
     "output_type": "execute_result",
     "data": {
      "text/plain": "'the the'"
     },
     "metadata": {},
     "execution_count": 62
    }
   ],
   "source": [
    "p = re.compile(r'(\\b\\w+)\\s+\\1')\n",
    "p.search('Paris in the the spring').group()"
   ]
  },
  {
   "source": [
    "#### 정규식 `(\\b\\w+)\\s+\\1`은 `(그룹) + \" \" + 그룹과 동일한 단어`와 매치됨을 의미한다. 이렇게 정규식을 만들게 되면 2개의 동일한 단어를 연속적으로 사용해야만 매치된다. 이것을 가능하게 해주는 것이 바로 재참조 메타 문자인 `\\1`이다. `\\1`은 정규식의 그룹 중 첫 번째 그룹을 가리킨다.\n",
    "\n",
    "#### | 두 번째 그룹을 참조하려면 `\\2`를 사용하면 된다.\n"
   ],
   "cell_type": "markdown",
   "metadata": {}
  },
  {
   "source": [
    "## 그루핑된 문자열에 이름 붙이기\n"
   ],
   "cell_type": "markdown",
   "metadata": {}
  },
  {
   "source": [
    "## \\b\n",
    "\n",
    "#### `\\b`는 단어 구분자(Word boundary)이다. 보통 단어는 whitespace에 의해 구분된다."
   ],
   "cell_type": "markdown",
   "metadata": {}
  },
  {
   "cell_type": "code",
   "execution_count": 25,
   "metadata": {
    "tags": []
   },
   "outputs": [
    {
     "output_type": "stream",
     "name": "stdout",
     "text": "<re.Match object; span=(3, 8), match='class'>\n"
    }
   ],
   "source": [
    "p = re.compile(r'\\bclass\\b')\n",
    "print(p.search('no class at all'))"
   ]
  },
  {
   "source": [
    " `\\bclass\\b` 정규식은 앞뒤가 whitespace로 구분된 class라는 단어와 매치됨을 의미한다. 따라서 no class at all의 class라는 단어와 매치됨을 확인할 수 있다.\n"
   ],
   "cell_type": "markdown",
   "metadata": {}
  },
  {
   "cell_type": "code",
   "execution_count": 27,
   "metadata": {
    "tags": []
   },
   "outputs": [
    {
     "output_type": "stream",
     "name": "stdout",
     "text": "None\nNone\n"
    }
   ],
   "source": [
    "print(p.search('the declassified algorithm'))\n",
    "### the declassified algorithm 문자열 안에도 class 문자열이 포함되어 있긴 하지만 whitespace로 구분된 단어가 아니므로 매치되지 않는다.\n",
    "\n",
    "print(p.search('one subclass is'))\n",
    "### subclass 문자열 역시 class 앞에 sub 문자열이 더해져 있으므로 매치되지 않음을 알 수 있다."
   ]
  },
  {
   "source": [
    "### `\\b` 메타 문자를 사용할 때 주의해야 할 점이 있다. `\\b`는 파이썬 리터럴 규칙에 의하면 백스페이스(BackSpace)를 의미하므로 백스페이스가 아닌 단어 구분자임을 알려 주기 위해 `r'\\bclass\\b'`처럼 Raw string임을 알려주는 기호 r을 반드시 붙여 주어야 한다.\n",
    "\n"
   ],
   "cell_type": "markdown",
   "metadata": {}
  },
  {
   "cell_type": "code",
   "execution_count": null,
   "metadata": {},
   "outputs": [],
   "source": []
  }
 ]
}