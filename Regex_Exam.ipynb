{
 "metadata": {
  "language_info": {
   "codemirror_mode": {
    "name": "ipython",
    "version": 3
   },
   "file_extension": ".py",
   "mimetype": "text/x-python",
   "name": "python",
   "nbconvert_exporter": "python",
   "pygments_lexer": "ipython3",
   "version": "3.8.0-final"
  },
  "orig_nbformat": 2,
  "kernelspec": {
   "name": "Python 3.8.0 32-bit",
   "display_name": "Python 3.8.0 32-bit",
   "metadata": {
    "interpreter": {
     "hash": "c9ba0c4a5af8269c496dad2a440da0741b8e4cd992915eed58c521d280844af4"
    }
   }
  }
 },
 "nbformat": 4,
 "nbformat_minor": 2,
 "cells": [
  {
   "cell_type": "code",
   "execution_count": 3,
   "metadata": {},
   "outputs": [],
   "source": [
    "import re\n",
    "p = re.compile('[a-z]+')"
   ]
  },
  {
   "cell_type": "code",
   "execution_count": 4,
   "metadata": {},
   "outputs": [
    {
     "output_type": "execute_result",
     "data": {
      "text/plain": "<re.Match object; span=(0, 6), match='python'>"
     },
     "metadata": {},
     "execution_count": 4
    }
   ],
   "source": [
    "m = p.match(\"python\")\n",
    "print(m) # 매치됨 (match 객체 리턴)"
   ]
  },
  {
   "cell_type": "code",
   "execution_count": 8,
   "metadata": {
    "tags": []
   },
   "outputs": [
    {
     "output_type": "stream",
     "name": "stdout",
     "text": "None\n"
    }
   ],
   "source": [
    "m = p.match(\"3 python\")\n",
    "print(m) # 정규식 [a-z]+ 에 부합하지 않음으로 None 리턴"
   ]
  },
  {
   "source": [
    "#### 파이썬 정규식 프로그램의 보통(?) 흐름\n",
    "\n",
    "```python\n",
    "p = re.complie(정규표현식)\n",
    "m = p.match(' umm... jun sick')\n",
    "if m:\n",
    "    print('Match found: ', m.group())\n",
    "else:\n",
    "    print('No match')\n",
    "```"
   ],
   "cell_type": "markdown",
   "metadata": {}
  },
  {
   "cell_type": "code",
   "execution_count": 9,
   "metadata": {
    "tags": []
   },
   "outputs": [
    {
     "output_type": "stream",
     "name": "stdout",
     "text": "<re.Match object; span=(0, 6), match='python'>\n"
    }
   ],
   "source": [
    "m = p.search('python')\n",
    "print(m)"
   ]
  },
  {
   "source": [
    "### \"3 python\" 문자열의 0 번째 문자는 \"3\"이지만 search는 문자열의 처음부터 검색하는 것이 아니라 문자열 전체를 검색하기 때문에 \"3\" 이후의 \"python\" 문자열과 매치된다."
   ],
   "cell_type": "markdown",
   "metadata": {}
  },
  {
   "cell_type": "code",
   "execution_count": 10,
   "metadata": {
    "tags": []
   },
   "outputs": [
    {
     "output_type": "stream",
     "name": "stdout",
     "text": "<re.Match object; span=(2, 8), match='python'>\n"
    }
   ],
   "source": [
    "m = p.search(\"3 python\")\n",
    "print(m) "
   ]
  },
  {
   "cell_type": "code",
   "execution_count": 11,
   "metadata": {
    "tags": []
   },
   "outputs": [
    {
     "output_type": "stream",
     "name": "stdout",
     "text": "['life', 'is', 'too', 'short']\n"
    }
   ],
   "source": [
    "result = p.findall(\"life is too short\")\n",
    "print(result)"
   ]
  },
  {
   "cell_type": "code",
   "execution_count": 13,
   "metadata": {
    "tags": []
   },
   "outputs": [
    {
     "output_type": "stream",
     "name": "stdout",
     "text": "<callable_iterator object at 0x03EAAB68> \n\n<re.Match object; span=(0, 4), match='life'>\n<re.Match object; span=(5, 7), match='is'>\n<re.Match object; span=(8, 11), match='too'>\n<re.Match object; span=(12, 17), match='short'>\n"
    }
   ],
   "source": [
    "result = p.finditer(\"life is too short\")\n",
    "print(result, '\\n')\n",
    "\n",
    "for r in result: print(r)"
   ]
  },
  {
   "source": [
    "### finditer는 findall과 동일하지만 그 결과로 반복 가능한 객체(iterator object)를 돌려준다. 반복 가능한 객체가 포함하는 각각의 요소는 match 객체이다.\n"
   ],
   "cell_type": "markdown",
   "metadata": {}
  },
  {
   "cell_type": "code",
   "execution_count": null,
   "metadata": {},
   "outputs": [],
   "source": []
  }
 ]
}